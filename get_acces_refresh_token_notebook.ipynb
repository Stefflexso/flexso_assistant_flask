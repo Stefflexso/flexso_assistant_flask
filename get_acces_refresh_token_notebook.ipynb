{
 "cells": [
  {
   "cell_type": "code",
   "execution_count": 1,
   "id": "6548b18b",
   "metadata": {},
   "outputs": [],
   "source": [
    "import threading\n",
    "import time\n",
    "import webbrowser\n",
    "from http.server import HTTPServer, BaseHTTPRequestHandler\n",
    "from urllib.parse import urlparse, parse_qs\n",
    "import requests\n",
    "from urllib.parse import quote\n",
    "import json"
   ]
  },
  {
   "cell_type": "markdown",
   "id": "c3cb2156",
   "metadata": {},
   "source": [
    "### for datasphere cli"
   ]
  },
  {
   "cell_type": "code",
   "execution_count": 18,
   "id": "ddf77e35",
   "metadata": {},
   "outputs": [
    {
     "name": "stdout",
     "output_type": "stream",
     "text": [
      "Auth-code = 3MbrFHOVXPz7e0N9sbsZLTM9yqMqhBYo\n"
     ]
    }
   ],
   "source": [
    "CLIENT_ID = \"sb-a0aa5cb4-c429-44b3-a601-531022f35a68!b240071|client!b3650\"\n",
    "REDIRECT_URI = \"http://localhost:8080/\"\n",
    "\n",
    "AUTHORIZE = (\n",
    "    \"https://indaver-dwc-q.authentication.eu10.hana.ondemand.com/oauth/authorize\"\n",
    "    \"?response_type=code\"\n",
    "    f\"&client_id={quote(CLIENT_ID)}\"\n",
    "    f\"&redirect_uri={quote(REDIRECT_URI)}\"\n",
    ")\n",
    "\n",
    "class OAuthHandler(BaseHTTPRequestHandler):\n",
    "    \"\"\"Minimal one-shot HTTP server to catch the redirect.\"\"\"\n",
    "    def do_GET(self):\n",
    "        qs = parse_qs(urlparse(self.path).query)\n",
    "        self.server.code = qs.get(\"code\", [None])[0]\n",
    "        # Nice message in the browser\n",
    "        self.send_response(200)\n",
    "        self.end_headers()\n",
    "        self.wfile.write(b\"You may close this tab.\")\n",
    "    def log_message(self, *args):  # silence console\n",
    "        return\n",
    "\n",
    "# 1) Start server in background\n",
    "server = HTTPServer((\"localhost\", 8080), OAuthHandler)\n",
    "threading.Thread(target=server.serve_forever, daemon=True).start()\n",
    "\n",
    "# 2) Open browser so user can log in\n",
    "webbrowser.open(AUTHORIZE)\n",
    "\n",
    "# 3) Wait for the redirect with the auth code\n",
    "while not hasattr(server, \"code\"):\n",
    "    time.sleep(0.2)\n",
    "\n",
    "auth_code = server.code\n",
    "print(\"Auth-code =\", auth_code)\n",
    "server.shutdown()"
   ]
  },
  {
   "cell_type": "code",
   "execution_count": 19,
   "id": "6959432d",
   "metadata": {},
   "outputs": [
    {
     "name": "stdout",
     "output_type": "stream",
     "text": [
      "200\n"
     ]
    }
   ],
   "source": [
    "CLIENT_SECRET = \"514f5084-d874-4fe8-8f85-a0f13fc4862b$N-bF8f34CHcekDgwFEXjayPSr6AUJrzjA1HlwC2eanc=\"  # Zet dit in je omgeving\n",
    "CODE = auth_code\n",
    "\n",
    "TOKEN_URL = \"https://indaver-dwc-q.authentication.eu10.hana.ondemand.com/oauth/token\"\n",
    "\n",
    "response = requests.post(\n",
    "    TOKEN_URL,\n",
    "    data={\n",
    "        \"grant_type\": \"authorization_code\",\n",
    "        \"code\": CODE,\n",
    "        \"redirect_uri\": REDIRECT_URI\n",
    "    },\n",
    "    auth=(CLIENT_ID, CLIENT_SECRET),\n",
    "    headers={\"Accept\": \"application/json\"}\n",
    ")\n",
    "\n",
    "print(response.status_code)"
   ]
  },
  {
   "cell_type": "code",
   "execution_count": 20,
   "id": "b323589c",
   "metadata": {},
   "outputs": [
    {
     "name": "stdout",
     "output_type": "stream",
     "text": [
      "eyJhbGciOiJSUzI1NiIsImprdSI6Imh0dHBzOi8vaW5kYXZlci1kd2MtcS5hdXRoZW50aWNhdGlvbi5ldTEwLmhhbmEub25kZW1hbmQuY29tL3Rva2VuX2tleXMiLCJraWQiOiJkZWZhdWx0LWp3dC1rZXktLTIwODgwMjg5NTMiLCJ0eXAiOiJKV1QiLCJqaWQiOiAiSGoxMkd6Rko2T3NFZ0MvLzFqZm5zaGQvUm9HdmlKTjR0ZERKRkYwbURXND0ifQ.eyJqdGkiOiJmOThmYzI3YTFlYWM0YmQyYWNiZTNjZTI5MTgwYjU2OSIsImV4dF9hdHRyIjp7ImVuaGFuY2VyIjoiWFNVQUEiLCJzdWJhY2NvdW50aWQiOiJhNjkzNzFiYy1hZDQ5LTRkZjgtOGU5Ny1mOTlmZWRjNDUyYzUiLCJ6ZG4iOiJpbmRhdmVyLWR3Yy1xIiwic2VydmljZWluc3RhbmNlaWQiOiJiOGE3NjhlZC1hNWRiLTQ4YzItODI0Yi0wODgwMTEyZTJjYTkifSwieHMuc3lzdGVtLmF0dHJpYnV0ZXMiOnsieHMuc2FtbC5ncm91cHMiOlsic2FjIl0sInhzLnJvbGVjb2xsZWN0aW9ucyI6WyJzYWMudXNlcnMiXX0sImdpdmVuX25hbWUiOiJzdGVmLmRlcHJhZXRlcmUiLCJ4cy51c2VyLmF0dHJpYnV0ZXMiOnt9LCJmYW1pbHlfbmFtZSI6ImZsZXhzby5jb20iLCJzdWIiOiJlMDM2Mjg0MC0xNDcyLTRiZGMtODZiNi1hOThhNzIzZTZkM2EiLCJzY29wZSI6WyJvcGVuaWQiLCJhcHByb3V0ZXItc2FjLXNhY2V1MTAhdDM2NTAuc2FwLmZwYS51c2VyIiwidWFhLnVzZXIiXSwiY2xpZW50X2lkIjoic2ItYTBhYTVjYjQtYzQyOS00NGIzLWE2MDEtNTMxMDIyZjM1YTY4IWIyNDAwNzF8Y2xpZW50IWIzNjUwIiwiY2lkIjoic2ItYTBhYTVjYjQtYzQyOS00NGIzLWE2MDEtNTMxMDIyZjM1YTY4IWIyNDAwNzF8Y2xpZW50IWIzNjUwIiwiYXpwIjoic2ItYTBhYTVjYjQtYzQyOS00NGIzLWE2MDEtNTMxMDIyZjM1YTY4IWIyNDAwNzF8Y2xpZW50IWIzNjUwIiwiZ3JhbnRfdHlwZSI6ImF1dGhvcml6YXRpb25fY29kZSIsInVzZXJfaWQiOiJlMDM2Mjg0MC0xNDcyLTRiZGMtODZiNi1hOThhNzIzZTZkM2EiLCJvcmlnaW4iOiJoYW5hY2xvdWRzZXJ2aWNlcy1ldS5hY2NvdW50cy5vbmRlbWEiLCJ1c2VyX25hbWUiOiJzdGVmLmRlcHJhZXRlcmVAZmxleHNvLmNvbSIsImVtYWlsIjoic3RlZi5kZXByYWV0ZXJlQGZsZXhzby5jb20iLCJhdXRoX3RpbWUiOjE3NTU4NTM2OTQsInJldl9zaWciOiI0OTE1NmQzZiIsImlhdCI6MTc1NTg1MzY5NywiZXhwIjoxNzU1OTQwMDk3LCJpc3MiOiJodHRwczovL2luZGF2ZXItZHdjLXEuYXV0aGVudGljYXRpb24uZXUxMC5oYW5hLm9uZGVtYW5kLmNvbS9vYXV0aC90b2tlbiIsInppZCI6ImE2OTM3MWJjLWFkNDktNGRmOC04ZTk3LWY5OWZlZGM0NTJjNSIsImF1ZCI6WyJhcHByb3V0ZXItc2FjLXNhY2V1MTAhdDM2NTAuc2FwLmZwYSIsInVhYSIsIm9wZW5pZCIsInNiLWEwYWE1Y2I0LWM0MjktNDRiMy1hNjAxLTUzMTAyMmYzNWE2OCFiMjQwMDcxfGNsaWVudCFiMzY1MCJdfQ.B7FznlwVvqNB9fPMIHqUNDfd5DQPihwBJWyzCXKwnY9pEtOKfRmONIhfh-78zlhwANV10eX3jE96vSAGVIc90Y5jbG0gY4RsSqbywXdjAFoUQkXoqsHaZXoZlwRZuyZ8ELJYWFyyHuOaHCLCZ9Pp18GARwrNYxLKfi1LeASyC8lRz2p_qo0WwCUhYt4nJBC71OUgY3QsF1ewbcZ4urbqhSDOfKOvbBw6xM5GY4_I4PRUg_JR0pFCqh4OUD7MVwFAqJinWcvrmIcyj3O9CuXY5CPmj3iOYAYnNUpv6F5m2OMVcXapssFioVzeftwwBIOFTpUhBhPUF8NpYY8cJ2FnMg\n"
     ]
    }
   ],
   "source": [
    "print(response.json()[\"access_token\"])"
   ]
  },
  {
   "cell_type": "code",
   "execution_count": 21,
   "id": "5491a729",
   "metadata": {},
   "outputs": [
    {
     "name": "stdout",
     "output_type": "stream",
     "text": [
      "1f1fb0c83d864826b29e7abdd407ce03-r\n"
     ]
    }
   ],
   "source": [
    "print(response.json()[\"refresh_token\"])"
   ]
  },
  {
   "cell_type": "markdown",
   "id": "33b92cc5",
   "metadata": {},
   "source": [
    "### for sap ai core"
   ]
  },
  {
   "cell_type": "code",
   "execution_count": 3,
   "id": "e97a8f78",
   "metadata": {},
   "outputs": [],
   "source": [
    "ai_core_secrets_path = \"ai_core_secret_orchestration.json\""
   ]
  },
  {
   "cell_type": "code",
   "execution_count": 4,
   "id": "db6e1a3f",
   "metadata": {},
   "outputs": [],
   "source": [
    "# --- Load secrets ---\n",
    "with open(ai_core_secrets_path, encoding=\"utf-8\") as f:\n",
    "    secrets = json.load(f)\n",
    "AUTH_URL      = secrets[\"auth_url\"]\n",
    "CLIENT_ID     = secrets[\"client_id\"]\n",
    "CLIENT_SECRET = secrets[\"client_secret\"]"
   ]
  },
  {
   "cell_type": "code",
   "execution_count": null,
   "id": "71c98c36",
   "metadata": {},
   "outputs": [],
   "source": []
  },
  {
   "cell_type": "code",
   "execution_count": 9,
   "id": "305e5a85",
   "metadata": {},
   "outputs": [],
   "source": [
    "resp = get_sap_token()"
   ]
  },
  {
   "cell_type": "code",
   "execution_count": 17,
   "id": "1d7987bb",
   "metadata": {},
   "outputs": [
    {
     "data": {
      "text/plain": [
       "43199"
      ]
     },
     "execution_count": 17,
     "metadata": {},
     "output_type": "execute_result"
    }
   ],
   "source": [
    "resp.json()[\"expires_in\"]"
   ]
  },
  {
   "cell_type": "code",
   "execution_count": 16,
   "id": "c44e1a3c",
   "metadata": {},
   "outputs": [
    {
     "name": "stdout",
     "output_type": "stream",
     "text": [
      "access_token\n",
      "token_type\n",
      "expires_in\n",
      "scope\n",
      "jti\n"
     ]
    }
   ],
   "source": [
    "for key in resp.json():\n",
    "    print(key)"
   ]
  }
 ],
 "metadata": {
  "kernelspec": {
   "display_name": "base",
   "language": "python",
   "name": "python3"
  },
  "language_info": {
   "codemirror_mode": {
    "name": "ipython",
    "version": 3
   },
   "file_extension": ".py",
   "mimetype": "text/x-python",
   "name": "python",
   "nbconvert_exporter": "python",
   "pygments_lexer": "ipython3",
   "version": "3.12.7"
  }
 },
 "nbformat": 4,
 "nbformat_minor": 5
}
