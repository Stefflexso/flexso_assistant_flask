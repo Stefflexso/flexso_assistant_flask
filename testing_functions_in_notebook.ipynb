{
 "cells": [
  {
   "cell_type": "code",
   "execution_count": 1,
   "id": "0206d30f",
   "metadata": {},
   "outputs": [],
   "source": [
    "from testing_functions import run_cli"
   ]
  },
  {
   "cell_type": "code",
   "execution_count": 2,
   "id": "3f2a9e01",
   "metadata": {},
   "outputs": [],
   "source": [
    "test_command = \"datasphere objects\""
   ]
  },
  {
   "cell_type": "code",
   "execution_count": 3,
   "id": "2f9f4a11",
   "metadata": {},
   "outputs": [
    {
     "name": "stdout",
     "output_type": "stream",
     "text": [
      "1\n"
     ]
    }
   ],
   "source": [
    "outcome = run_cli(test_command)"
   ]
  },
  {
   "cell_type": "code",
   "execution_count": null,
   "id": "ef37a803",
   "metadata": {},
   "outputs": [
    {
     "data": {
      "text/plain": [
       "CompletedProcess(args='datasphere objects --verbose', returncode=1, stdout='Usage: datasphere objects [options] [command]\\n\\nmanage modeling objects\\n\\nOptions:\\n  -h, --help                      display help for command\\n\\nCommands:\\n  remote-tables [options]         manage remote tables\\n  local-tables [options]          manage local tables\\n  er-models [options]             manage er models\\n  views [options]                 manage views\\n  analytic-models [options]       manage analytic models\\n  task-chains [options]           manage task chains\\n  data-flows [options]            manage data flows\\n  replication-flows [options]     manage replication flows\\n  transformation-flows [options]  manage transformation flows\\n  data-access-controls [options]  manage data access controls\\n  business-entities [options]     manage business entities\\n  fact-models [options]           manage fact models\\n  consumption-models [options]    manage consumption models\\n  intelligent-lookups [options]   manage intelligent lookups\\n  ontologies [options]            manage ontologies\\n  contexts [options]              manage contexts\\n  types [options]                 manage types\\n  services [options]              manage services\\n  help [command]                  display help for command\\n\\nOnly command-specific options are listed here. To learn more about available generic options, visit https://tinyurl.com/yck8vv4w\\n\\n', stderr='')"
      ]
     },
     "execution_count": 4,
     "metadata": {},
     "output_type": "execute_result"
    },
    {
     "ename": "",
     "evalue": "",
     "output_type": "error",
     "traceback": [
      "\u001b[1;31mThe Kernel crashed while executing code in the current cell or a previous cell. \n",
      "\u001b[1;31mPlease review the code in the cell(s) to identify a possible cause of the failure. \n",
      "\u001b[1;31mClick <a href='https://aka.ms/vscodeJupyterKernelCrash'>here</a> for more info. \n",
      "\u001b[1;31mView Jupyter <a href='command:jupyter.viewOutput'>log</a> for further details."
     ]
    }
   ],
   "source": [
    "outcome"
   ]
  }
 ],
 "metadata": {
  "kernelspec": {
   "display_name": "base",
   "language": "python",
   "name": "python3"
  },
  "language_info": {
   "codemirror_mode": {
    "name": "ipython",
    "version": 3
   },
   "file_extension": ".py",
   "mimetype": "text/x-python",
   "name": "python",
   "nbconvert_exporter": "python",
   "pygments_lexer": "ipython3",
   "version": "3.12.7"
  }
 },
 "nbformat": 4,
 "nbformat_minor": 5
}
